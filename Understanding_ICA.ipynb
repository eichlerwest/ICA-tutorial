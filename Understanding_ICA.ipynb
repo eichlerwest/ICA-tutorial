{
  "cells": [
    {
      "cell_type": "markdown",
      "metadata": {
        "id": "SEPlEAunF_PV"
      },
      "source": [
        "# **Understanding ICAs on EEG Data**\n",
        "\n",
        "Rogene M. Eichler West, Ph.D.\n",
        "\n",
        "January 2023\n"
      ]
    },
    {
      "cell_type": "markdown",
      "metadata": {
        "id": "GpaSU8PsHqYW"
      },
      "source": [
        "Organization of this document\n",
        "\n",
        "\n",
        "1.   The Cocktail Party Problem\n",
        "2.   Understanding Linear Transformations\n",
        "1.   Singular Value Decomposition\n",
        "1.   The Covariance Matrix\n",
        "2.   Eigenvalues and Eigenvectors\n",
        "1.   The Concept of Whitening Data\n",
        "1.   The Requirement of Non-Gaussian Distributions\n",
        "2.   Information Theory\n",
        "2.   The Infomax ICA Algorithm\n",
        "1.   Subtracting a Source\n",
        "2.   Coherences Before and After\n",
        "1.   Learning More About ICA\n",
        "\n",
        "\n",
        "\n",
        "\n",
        "\n",
        "\n",
        "\n",
        "\n",
        "\n"
      ]
    },
    {
      "cell_type": "markdown",
      "metadata": {
        "id": "ZlNnwRTzGY60"
      },
      "source": [
        "#**1. The Cocktail Party Problem**\n"
      ]
    },
    {
      "cell_type": "markdown",
      "metadata": {
        "id": "wnNcKJRmfcnm"
      },
      "source": [
        "Let's start off by reviewing the cocktail party problem and how it is related to source seperation in EEG. <br><br>\n",
        "\n",
        "Imagine you are at party where there are N sources of sound, like people talking or music. Let's make this a managable number in our experiment to understand what is going on, say N=3.<br><br>\n",
        "\n",
        "Let's also put M sensors in the room to detect the sound. You can think of these as microphones. Let's make M=4. <br><br>\n",
        "\n",
        "The metaphor here to EEG is that we are modeling the N sound sources as cortical generators, and then the M microphones are our electrodes. <br><br>\n",
        "\n",
        "*--- Note that you can change these numbers in the code, if you like, to generalize your understanding. Also notice that everytime you execute any cells where values are randomly selected, you will get a different answer. Note that a few cells may have been hardcoded to the initial dimensions of the scenario. *"
      ]
    },
    {
      "cell_type": "code",
      "execution_count": 1,
      "metadata": {
        "colab": {
          "base_uri": "https://localhost:8080/",
          "height": 281
        },
        "id": "J9Eo3b_qKtAr",
        "outputId": "979a1d07-29b2-4f9e-f77a-fa884dd0c516"
      },
      "outputs": [
        {
          "output_type": "display_data",
          "data": {
            "text/plain": [
              "<Figure size 432x288 with 1 Axes>"
            ],
            "image/png": "[encoded data removed]"
          },
          "metadata": {
            "needs_background": "light"
          }
        }
      ],
      "source": [
        "# We first need to do a bit of Python setup\n",
        "import random\n",
        "import math\n",
        "import numpy as np\n",
        "import matplotlib.pyplot as plt\n",
        "from scipy.linalg import svd\n",
        "\n",
        "# Here are the variables indicating the number of our sources and sensors.\n",
        "N = 3\n",
        "M = 4\n",
        "\n",
        "# Let's randonly place them in a room of size 10 x 10.\n",
        "size_room = 10\n",
        "\n",
        "# These variables are where we will store their coordinates\n",
        "N_locations = []\n",
        "M_locations = []\n",
        "\n",
        "# And now we will select the random locations\n",
        "for i in range(N):\n",
        "  x = random.uniform(0, size_room)\n",
        "  y = random.uniform(0, size_room)\n",
        "  N_locations.append((x,y))\n",
        "\n",
        "for i in range(M):\n",
        "  x = random.uniform(0, size_room)\n",
        "  y = random.uniform(0, size_room)\n",
        "  M_locations.append((x,y))\n",
        "\n",
        "# Finally, let's visualize the room and the relative locations of our sources and sensors\n",
        "plt.clf()\n",
        "plt.title('Location of Sources and Sensors')\n",
        "\n",
        "for i in range(N):\n",
        "  x, y = N_locations[i]\n",
        "  txt = 'source ' + str(i+1)\n",
        "  plt.scatter(x, y, marker='v', s= 50, color='red')\n",
        "  plt.annotate(txt, (x+.2, y))\n",
        "\n",
        "for i in range(M):\n",
        "  x, y = M_locations[i]\n",
        "  txt = 'sensor ' + str(i+1)\n",
        "  plt.scatter(x, y, marker='^', s= 50, color='blue')\n",
        "  plt.annotate(txt, (x+.2, y))\n",
        "\n",
        "plt.show()"
      ]
    },
    {
      "cell_type": "markdown",
      "metadata": {
        "id": "4fTht0JlXpSA"
      },
      "source": [
        "Next, let's simulate the sound emanating from the sources. <br><br>\n",
        "\n",
        "Voices, like at a cocktail party, have complex waveforms. But since we are trying to follow along with math in this tutorial, let's assign simple sin waves to two of the sources, and random noise to the third. \n"
      ]
    },
    {
      "cell_type": "code",
      "execution_count": 2,
      "metadata": {
        "colab": {
          "base_uri": "https://localhost:8080/",
          "height": 281
        },
        "id": "yAyrbgPicZpc",
        "outputId": "918eb63c-b03f-4545-b91b-36b1daf9ea94"
      },
      "outputs": [
        {
          "output_type": "display_data",
          "data": {
            "text/plain": [
              "<Figure size 432x288 with 1 Axes>"
            ],
            "image/png": "[encoded data removed]"
          },
          "metadata": {
            "needs_background": "light"
          }
        }
      ],
      "source": [
        "# Let's choose values in an EEG-like range\n",
        "sampling_rate = 250.0 # Units, Hz\n",
        "time_window = 60.0 # Total elapsed time in units, seconds\n",
        "samples = np.arange(time_window * sampling_rate) / sampling_rate # arrange the timesteps in a array\n",
        "total_timesteps = sampling_rate * time_window # This is how many timesteps in the samples array\n",
        "\n",
        "# This is where we will store our source time series data and a list of the original frequencies\n",
        "S = []\n",
        "save_freq = []\n",
        "save_amp = []\n",
        "\n",
        "# For our sources, we will randomly select a frequency for all but the last source, which will be noise.\n",
        "# I want to make sure that we randomly do not select values too close to each other so you can see the \n",
        "# difference in the plots, so I am setting the min and max frequencies to be selected from a band that \n",
        "# is a function of the number of sources.\n",
        "min_freq = 1.0\n",
        "max_freq = 40.0/float(N)\n",
        "\n",
        "for i in range(N-1):\n",
        "  random_freq = random.uniform(min_freq, max_freq)    # Create the sin wave at this frequency\n",
        "  save_freq.append(random_freq)                       # Save it for later\n",
        "  random_amplitude = random.uniform(1.0, 5.0)         # Generate amplitude for the waveform\n",
        "  save_amp.append(random_amplitude)\n",
        "  ts = random_amplitude * np.sin(2 * np.pi * random_freq * samples) + random_amplitude\n",
        "  S.append(ts)\n",
        "\n",
        "  # advance band for the next generator - see comment above\n",
        "  min_freq = max_freq\n",
        "  max_freq = 2.0 * max_freq\n",
        "\n",
        "# for this last source, generate random values\n",
        "random_amplitude = random.uniform(1.0, 10.0)\n",
        "ts = random_amplitude * np.random.uniform(low=0.0,high=1.0,size=len(samples)) \n",
        "S.append(ts)\n",
        "\n",
        "# Plot 500 msec of sources, so we can see detail\n",
        "plt.clf()\n",
        "plt.title('Source Signals')\n",
        "for i in range(N):\n",
        "  if i < N-1:\n",
        "    txt = 'Source ' + str(i+1) + ', ' + str.format('{0:.1f}',save_freq[i]) + ' Hz'\n",
        "  else:\n",
        "    txt = 'Source ' + str(i+1) + ' Random'\n",
        "  plt.plot(samples, S[i], label = txt)\n",
        "\n",
        "plt.legend()\n",
        "plt.xlim(left= 0, right=0.5)\n",
        "plt.show()"
      ]
    },
    {
      "cell_type": "markdown",
      "metadata": {
        "id": "VtBD6JUaY0yS"
      },
      "source": [
        "With respect to the data collected by the sensors, you need to know two things. <br><br>\n",
        "\n",
        "**First**, the amplitude of sound (and other kinds of signals such as electromotive forces and gravity) falls off with distance. Specifically, the attenuation is a function of the radius squared. <br><br>\n",
        "\n",
        "**Second**, signals from indepdenent generators can be combined by simply adding their waveforms.<br><br>\n",
        "\n",
        "Now let's model the signal measured by each sensor. "
      ]
    },
    {
      "cell_type": "code",
      "execution_count": 3,
      "metadata": {
        "colab": {
          "base_uri": "https://localhost:8080/",
          "height": 281
        },
        "id": "jNFZhlzbdMv0",
        "outputId": "ecfc316e-8867-428c-94df-7b2ae5644f3a"
      },
      "outputs": [
        {
          "output_type": "display_data",
          "data": {
            "text/plain": [
              "<Figure size 432x288 with 1 Axes>"
            ],
            "image/png": "[encoded data removed]"
          },
          "metadata": {
            "needs_background": "light"
          }
        }
      ],
      "source": [
        "# This is where we will store our sensor measurements and our distance attentuation factors\n",
        "X = []\n",
        "A = np.zeros([M,N])\n",
        "\n",
        "for i in range(M):\n",
        "  ts = 0\n",
        "  for j in range(N):\n",
        "    # Calculate the distance between each source and sensor\n",
        "    dist = math.dist(M_locations[i],N_locations[j])\n",
        "    # Save this value because we will use it later\n",
        "    A[i][j] = 1.0/(dist*dist)\n",
        "    # Add data from each source, attenuated by the distance away\n",
        "    ts = ts + (A[i][j] * S[j])\n",
        "  X.append(ts)\n",
        "\n",
        "# Plot 500 msec of sensor measurements, so we can see the details\n",
        "plt.clf()\n",
        "plt.title('Sensor Measurements')\n",
        "for i in range(M):\n",
        "  txt = 'Sensor ' + str(i+1)\n",
        "  plt.plot(samples, X[i], label = txt)\n",
        "\n",
        "plt.legend()\n",
        "plt.xlim(left= 0, right=.5)\n",
        "plt.show()"
      ]
    },
    {
      "cell_type": "markdown",
      "metadata": {
        "id": "myddycu5k71r"
      },
      "source": [
        "Before we go on, pause for a moment and make sure that you agree that these are the signals we would expect to measure at each location. If you refresh each cell starting from the top, new random locations and frequencies will be selected."
      ]
    },
    {
      "cell_type": "markdown",
      "metadata": {
        "id": "kOZYBN4GS80N"
      },
      "source": [
        "We know that **X**, our **measurements**, are just a linear combination of the **source data**, **S**, because we just constructed them this way! By \"linear\", this means that we performed operations like multiplying them by constants or adding them together.<br><br>\n",
        "\n",
        "While we performed these operations computationally using a \"loop\" above so as to gain some intuition. However, we could also more concisely express this relationship as a maxtrix equation:<br><br>\n",
        "\n",
        "X = AS\n",
        "\n",
        "where **A** is also known as a ***mixing matrix***.\n"
      ]
    },
    {
      "cell_type": "code",
      "execution_count": 4,
      "metadata": {
        "colab": {
          "base_uri": "https://localhost:8080/"
        },
        "id": "S8v7hO2toztQ",
        "outputId": "2b6f8acd-34dc-41ee-833a-1fc2e1a4add5"
      },
      "outputs": [
        {
          "output_type": "stream",
          "name": "stdout",
          "text": [
            "X Shape:(4, 15000)\n",
            "A Shape:(4, 3)\n",
            "S Shape:(3, 15000)\n",
            "\n",
            "We get the same sensor measurements by maxtrix multiplication.\n"
          ]
        }
      ],
      "source": [
        "# Change the data structure for easier use of python methods\n",
        "X = np.array(X)\n",
        "A = np.array(A)\n",
        "S = np.array(S)\n",
        "\n",
        "# Print the shape of each matrix\n",
        "print(\"X Shape:\" + str(X.shape))\n",
        "print(\"A Shape:\" + str(A.shape))\n",
        "print(\"S Shape:\" + str(S.shape))\n",
        "\n",
        "# Calculate the answer again using matrix multiplication\n",
        "Y = np.matmul(A,S)\n",
        "\n",
        "# Check if we get the same answer as our \"for loop\" above\n",
        "if np.isclose(X, Y, atol=1e-8).all():\n",
        "    print(\"\\nWe get the same sensor measurements by maxtrix multiplication.\") \n"
      ]
    },
    {
      "cell_type": "markdown",
      "metadata": {
        "id": "dnvx5fvbtTIS"
      },
      "source": [
        "The problem is, we also don't know our mixing matrix **A**, representing the distances between our source and sensors. If we knew **A**, we could multiply each side of the equation by it's inverse to obtain our original sensor values, **S**. \n",
        "\n",
        "**A$^{-1}$X = A$^{-1}$AS**\n",
        "\n",
        "**A$^{-1}$X = S**\n",
        "\n",
        "<br>\n",
        "Here is a quick check to make sure that we get the same answer using matrix multiplication.\n"
      ]
    },
    {
      "cell_type": "code",
      "execution_count": 5,
      "metadata": {
        "colab": {
          "base_uri": "https://localhost:8080/"
        },
        "id": "0-3B4KJLepeD",
        "outputId": "52b0cf27-2638-4932-e6dd-05df4a314d48"
      },
      "outputs": [
        {
          "output_type": "stream",
          "name": "stdout",
          "text": [
            "The recovered signals are the same as the ones we generated above.\n"
          ]
        }
      ],
      "source": [
        "# Let's check by taking the inverse of A (it is not a square matrix, so I am using the pseudoinverse method)\n",
        "A_inv = np.linalg.pinv(A)\n",
        "\n",
        "# Now multiply and see if we get S back\n",
        "S_est = np.matmul(A_inv,X)\n",
        "\n",
        "# Check to see if we get the same answer as the sources we generated above\n",
        "if np.isclose(S, S_est, atol=1e-8).all():\n",
        "    print(\"The recovered signals are the same as the ones we generated above.\") "
      ]
    },
    {
      "cell_type": "markdown",
      "metadata": {
        "id": "AGktG1FreqEr"
      },
      "source": [
        "We are going to refer to the inverse of our mixing matrix, **A$^{-1}$**, as our \"unmixing\" matrix and give it a new name, **W**. \n",
        "\n",
        "**WX = S**\n",
        "\n",
        "So now we have one equation with two unknowns. We have our measurements (microphones, electrodes), and we want to know the source and the distance relationships.\n",
        "<br><br>\n",
        "\n",
        "At this point, we should pause to discuss a few concepts about linear transformations so that we might gain some insight into the clues within the structure of our measurement matrix, **X**."
      ]
    },
    {
      "cell_type": "markdown",
      "metadata": {
        "id": "c6Qp1XLaJW3h"
      },
      "source": [
        "# **2. Understanding Linear Transformations**"
      ]
    },
    {
      "cell_type": "markdown",
      "metadata": {
        "id": "twbeqSUI7lNv"
      },
      "source": [
        "Matrix operations, like combining source data scaled by the inverse distances to each sensor, is known as a linear transformation. <br><br>\n",
        "\n",
        "Despite the mathematical sounding name, it is just a way to refer to a collection of operations - such as translation, scaling, rotation, reflection, and shear - which are commonly used with images. You were probably first introduced to these concepts in elementry school, but without the jargon. [Remember this?](https://www.mathsisfun.com/geometry/transformations.html)  \n",
        "<br><br>\n",
        "To make this more familiar, this next section of code demonstrates 2-dimensional visual examples of matrix operations. These are the kinds of operation that take place under the hood when you manipulate images in a program like Photoshop or in an app on your phone. \n",
        "<br><br>\n",
        "The transformation marked \"Combination\" contains values that produce both scaling, shearing, and rotation."
      ]
    },
    {
      "cell_type": "code",
      "execution_count": 6,
      "metadata": {
        "colab": {
          "base_uri": "https://localhost:8080/",
          "height": 314
        },
        "id": "c6KzADQuNeFG",
        "outputId": "184ae356-45b4-4985-ed35-9e49f8ac7bfb"
      },
      "outputs": [
        {
          "output_type": "display_data",
          "data": {
            "text/plain": [
              "<Figure size 432x288 with 0 Axes>"
            ]
          },
          "metadata": {}
        },
        {
          "output_type": "display_data",
          "data": {
            "text/plain": [
              "<Figure size 576x288 with 8 Axes>"
            ],
            "image/png": "[encoded data removed]"
          },
          "metadata": {
            "needs_background": "light"
          }
        }
      ],
      "source": [
        "# Let's use a familiar square shape, centered at 0,0\n",
        "#exampledata = np.array([[-1,-1],[-1,1],[1,1],[1,-1]])\n",
        "shapedata = np.array([[-1,0],[-1,4],[1,4],[1,3],[-0.5,3],[-0.5,2],[0.5,2],[0.5,1.5],[-0.5,1.5]])\n",
        "r,c = shapedata.shape\n",
        "transformed = np.empty([r,2])\n",
        "\n",
        "# here are examples of matrix based linear transformation\n",
        "scaleup = np.array([[2,0],[0,2]])\n",
        "scaledown = np.array([[0.5,0],[0,0.5]])\n",
        "rotate = np.array([[np.cos(np.pi/4),-np.sin(np.pi/4)],[np.sin(np.pi/4),np.cos(np.pi/4)]])\n",
        "reflect = np.array([[1,0],[0,-1]])\n",
        "shear = np.array([[1,0],[1,1]])\n",
        "shearscalerotate = np.array([[1.4,-.7],[1.2,2.1]])\n",
        "\n",
        "# here is a vector (1D) based linear transformation\n",
        "translate = np.array([-2, 3])\n",
        "\n",
        "# Let's plot them so you can see what happens\n",
        "plt.clf()\n",
        "fig, axs = plt.subplots(2, 4, sharex=True, sharey=True, figsize=(8,4))\n",
        "\n",
        "axs[0, 0].set_title(\"Original Data\")\n",
        "axs[0, 0].fill(shapedata[:,0], shapedata[:,1],'m')\n",
        "\n",
        "axs[0, 1].set_title(\"Translate\")\n",
        "for i in range(r):\n",
        "  transformed[i,:] = shapedata[i,:] + translate\n",
        "axs[0, 1].fill(transformed[:,0], transformed[:,1],'m')\n",
        "\n",
        "axs[0, 2].set_title(\"Scale up\")\n",
        "transformed = np.matmul(shapedata,scaleup)\n",
        "axs[0, 2].fill(transformed[:,0], transformed[:,1],'m')\n",
        "\n",
        "axs[0, 3].set_title(\"Scale down\")\n",
        "transformed = np.matmul(shapedata,scaledown)\n",
        "axs[0, 3].fill(transformed[:,0], transformed[:,1],'m')\n",
        "\n",
        "axs[1, 0].set_title(\"Rotate\")\n",
        "transformed = np.matmul(shapedata,rotate)\n",
        "axs[1, 0].fill(transformed[:,0], transformed[:,1],'m')\n",
        "\n",
        "axs[1, 1].set_title(\"Reflect\")\n",
        "transformed = np.matmul(shapedata,reflect)\n",
        "axs[1, 1].fill(transformed[:,0], transformed[:,1],'m')\n",
        "\n",
        "axs[1, 2].set_title(\"Shear\")\n",
        "transformed = np.matmul(shapedata,shear)\n",
        "axs[1, 2].fill(transformed[:,0], transformed[:,1],'m')\n",
        "\n",
        "axs[1, 3].set_title(\"Combination\")\n",
        "transformed = np.matmul(shapedata,shearscalerotate)\n",
        "axs[1, 3].fill(transformed[:,0], transformed[:,1],'m')\n",
        "\n",
        "fig.tight_layout()\n",
        "fig.show()"
      ]
    },
    {
      "cell_type": "markdown",
      "metadata": {
        "id": "LXY7G6y87w57"
      },
      "source": [
        "The shape in the previous example was constructed from x and y coordinates. The height and width (or rows and columns) of the shape was contained in a 2 x 9 matrix named, *exampledata*.<br><br>\n",
        "\n",
        "The x and y coordinates for our next graphs will be from our sensors. We are going to use the only first two rows of X and all total_timesteps of the columns.<br><br>\n",
        "\n",
        "[sensor1, sensor2] at time 1<br>\n",
        "[sensor1, sensor2] at time 2<br>\n",
        "...<br>\n",
        "[sensor1, sensor2] at time (last value)<br><br>\n",
        "\n",
        "*Why only two when we created four above?* Simply because it is easier to graph 2D data, and I would like you to gain an intuition using a visual aid. You can always change the code to look at any pair of sensors. "
      ]
    },
    {
      "cell_type": "code",
      "execution_count": null,
      "metadata": {
        "id": "rpUlTStgstI2"
      },
      "outputs": [],
      "source": [
        "# This section may need to be rewritten if you reduce the number of sensors to less\n",
        "# than 3 or the number of sources to be less than 2. \n",
        "\n",
        "# Let's simplify this example to just using our first two microphones \n",
        "# because it is easier to graph. \n",
        "FromSource1_XY = np.matmul(A[0:2,0:1], S[0:1,:])\n",
        "FromSource2_XY = np.matmul(A[0:2,1:2], S[1:2,:])\n",
        "FromSource3_XY = np.matmul(A[0:2,2:3], S[2:3,:])\n",
        "\n",
        "# Each ordered pair (x,y) represents (sensor 1, sensor 2), and we are plotting all 15,000 observations\n",
        "plt.clf()\n",
        "fig, axs = plt.subplots(1, 3, sharex=True, sharey=True, figsize=(8,8))\n",
        "axs[0].set_title(\"Source 1\")\n",
        "axs[0].scatter(FromSource1_XY[0,:], FromSource1_XY[1,:], color='m')\n",
        "axs[1].set_title(\"Source 2\")\n",
        "axs[1].scatter(FromSource2_XY[0,:], FromSource2_XY[1,:], color='g')\n",
        "axs[2].set_title(\"Source 3\")\n",
        "axs[2].scatter(FromSource3_XY[0,:], FromSource3_XY[1,:], color='black')\n",
        "fig.show()\n"
      ]
    },
    {
      "cell_type": "markdown",
      "metadata": {
        "id": "bBJpKicV76hh"
      },
      "source": [
        "Here is one of the hidden patterns in our data: the relationship between any pair of sensors and a single source is a line, and the slope of that line is the ratio of our distance terms in the mixing maxtrix!"
      ]
    },
    {
      "cell_type": "code",
      "execution_count": null,
      "metadata": {
        "id": "0bpyruw74CQA"
      },
      "outputs": [],
      "source": [
        "from matplotlib.cbook import deprecation\n",
        "m, b = np.polyfit(FromSource1_XY[0,:], FromSource1_XY[1,:], 1)\n",
        "print('The slope of the relationship between sensor 1 and source 2 for source 1: ' + str.format('{0:.2f}', m))\n",
        "print(\"which happens to be exactly the ratio between their distance away from the source, \" + str.format('{0:.2f}', A[1,0]/A[0,0]))\n",
        "m, b = np.polyfit(FromSource2_XY[0,:], FromSource2_XY[1,:], 1)\n",
        "print('\\nThe slope of the relationship between sensor 1 and source 2 for source 2: ' + str.format('{0:.2f}', m))\n",
        "print(\"which happens to be exactly the ratio between their distance away from the source, \" + str.format('{0:.2f}', A[1,1]/A[0,1]))\n",
        "m, b = np.polyfit(FromSource3_XY[0,:], FromSource3_XY[1,:], 1)\n",
        "print('\\nThe slope of the relationship between sensor 1 and source 2 for source 3: '+ str.format('{0:.2f}', m))\n",
        "print(\"which happens to be exactly the ratio between their distance away from the source, \" + str.format('{0:.2f}', A[1,2]/A[0,2]))\n"
      ]
    },
    {
      "cell_type": "markdown",
      "metadata": {
        "id": "bbrRkaRCyWaa"
      },
      "source": [
        "Once we combine all those sources, however, the relationship becomes a bit more complicated to visualize.<br><br>\n"
      ]
    },
    {
      "cell_type": "code",
      "execution_count": null,
      "metadata": {
        "id": "D8c3-a0FCpSc"
      },
      "outputs": [],
      "source": [
        "plt.clf()\n",
        "plt.title(\"All Sources Combined\")\n",
        "plt.scatter(X[0,:], X[1,:], color='b', label = 'Combined')\n",
        "plt.scatter(FromSource1_XY[0,:], FromSource1_XY[1,:], color='m', label='Source 1 alone')\n",
        "plt.scatter(FromSource2_XY[0,:], FromSource2_XY[1,:], color='g', label='Source 2 alone')\n",
        "plt.scatter(FromSource3_XY[0,:], FromSource3_XY[1,:], color='black', label='Source 2 alone')\n",
        "plt.legend()\n",
        "plt.show()"
      ]
    },
    {
      "cell_type": "markdown",
      "metadata": {
        "id": "sYV-Q4UXAdWu"
      },
      "source": [
        "# **3. Singular Value Decomposition**"
      ]
    },
    {
      "cell_type": "markdown",
      "metadata": {
        "id": "XKTJqwVIKbCr"
      },
      "source": [
        "Fortunately, there is a way to factor **any** matrix to pull out underlying structure. This method is called Singular Value Decomposition and [it is described](https://www.youtube.com/watch?v=gXbThCXjZFM) as a data-driven generalization of the Fourier transform. <br><br>\n",
        "\n",
        "A decomposition is guaranteed to exist for every matrix, further it is **unique**.\n",
        "\n",
        "Any and every matrix, including our mixing matrix, **A**, can subdivided into three transformation: a rotation, **V$^{T}$**, a scaling factor, **Σ**, and a second rotation, **U**.\n",
        "<br><br>\n",
        "**A = UΣV$^{T}$**\n",
        "<br><br>\n",
        "While we will see how to perform this breakdown in a moment, first convince ourselves that it works on our shape data from above.\n",
        "<br><br>\n",
        "Combination Shape = Combo Transform Matrix * Original Shape\n",
        "<br><br>\n",
        "Combination Shape = UΣV$^{T}$ * Original Shape"
      ]
    },
    {
      "cell_type": "code",
      "execution_count": null,
      "metadata": {
        "id": "a4S-mvZHEpJR"
      },
      "outputs": [],
      "source": [
        "# Use the Python SVD function to break our \"Combination\" transform into three components, and then apply to the original shape data.\n",
        "\n",
        "U, sigma, VT = svd(shearscalerotate)\n",
        "\n",
        "plt.clf()\n",
        "fig, axs = plt.subplots(1, 5, sharex=True, sharey=True, figsize=(20,2))\n",
        "axs[0].set_title(\"Original Shape\")\n",
        "axs[0].fill(shapedata[:,0], shapedata[:,1],'m')\n",
        "\n",
        "# Note that reflection is a special case of rotation\n",
        "axs[1].set_title(\"First Rotation/Reflection\")\n",
        "transformed = np.matmul(shapedata,U)\n",
        "axs[1].fill(transformed[:,0], transformed[:,1],'m')\n",
        "\n",
        "axs[2].set_title(\"Scaling\")\n",
        "transformed = np.matmul(transformed,np.diag(sigma))\n",
        "axs[2].fill(transformed[:,0], transformed[:,1],'m')\n",
        "\n",
        "# Note that reflection is a special case of rotation\n",
        "axs[3].set_title(\"Second Rotation/Reflection\")\n",
        "transformed = np.matmul(transformed,VT)\n",
        "axs[3].fill(transformed[:,0], transformed[:,1],'m')\n",
        "\n",
        "axs[4].set_title(\"Combination Shape from Above\")\n",
        "transformed = np.matmul(shapedata,shearscalerotate)\n",
        "axs[4].fill(transformed[:,0], transformed[:,1],'m')\n",
        "\n",
        "fig.show()\n"
      ]
    },
    {
      "cell_type": "markdown",
      "metadata": {
        "id": "Zs0wOLHzU--D"
      },
      "source": [
        "We have neither sensor data nor our mixing/unmixing matrix for our orignal problem. But we can substitute the results of our singular value decomposition.<br>\n",
        "\n",
        "X=AS<br>\n",
        "X = UΣV$^{T}$S<br><br>\n",
        "\n",
        "We can exploit the covariance of the measurement data, <XX$^{T}$>, to find U and Σ.<br>\n",
        "<XX$^{T}$> = <(UΣV$^{T}$S)(UΣV$^{T}$S)$^{T}$><br>\n",
        "<XX$^{T}$> = UΣV$^{T}$ <SS$^{T}$> VΣU$^{T}$\n",
        "<br><br>\n",
        "Next, we use one assumption about our data and one property of orthogonal matrices to clean this up further.<br><br>\n",
        "First, since we know that our sources are independent, the covariance term, <SS$^{T}$>, is the identity matrix, **I**. (The identity matrix has all 1s along the diagonal and 0s elsewhere. It is like multiplying by 1, so we can remove it from the equation.)<br>\n",
        "<XX$^{T}$> = UΣ(V$^{T}$V)ΣU$^{T}$<br><br>\n",
        "\n",
        "\n",
        "Second, we know that V is an orthogonal matrix, which means V$^{T}$=V$^{-1}$, and we can cancel out the middle term. (An orthogonal matrix has a square shape and contains only real numbers.)<br>\n",
        "<XX$^{T}$> = UΣ$^{2}$U$^{T}$<br><br>\n",
        "(We can't use that trick again with U because the order of operations makes a difference in matrix operations.)\n",
        "<br><br>\n",
        "Now is probably a good time to look at some code again to understand the relationship between the covariance matrix and how we typically calculate the covariance between two times series, like channels of EEG data. Then we can come back to solving for U and Σ.\n"
      ]
    },
    {
      "cell_type": "markdown",
      "metadata": {
        "id": "zm9OKDvDqvTJ"
      },
      "source": [
        "# **4. The Covariance Matrix**"
      ]
    },
    {
      "cell_type": "markdown",
      "metadata": {
        "id": "tFPhsSIUzhNk"
      },
      "source": [
        "The formula for covariance is as follows:\n",
        "\n",
        "Cov$_{xy}$ = $\\frac{\\Sigma (x{_{i}}-\\bar{x})(y{_{i}}-\\bar{y})}{N-1}$\n",
        "\n",
        "\n",
        "1.   For each time series (or, row in our X matrix), we first calculate the average.\n",
        "2.   For each element in each row, subtract the corresponding average.\n",
        "1.   Sum up the product of every mean-adjusted x times every corresponding mean-adjusted y.\n",
        "2.   Divide by the number of elements minus 1.\n",
        "<br>\n",
        "\n",
        "Bonus fact: subtracting the average from each row is the same as the linear transformation, \"translation\", in section 2 above. \n",
        "\n",
        "\n",
        "\n",
        "\n",
        "\n",
        "\n",
        "\n",
        "\n"
      ]
    },
    {
      "cell_type": "code",
      "execution_count": null,
      "metadata": {
        "id": "NhpcIFI8uvcl"
      },
      "outputs": [],
      "source": [
        "# Steps 1 and 2\n",
        "AveAdjXs = []\n",
        "for i in range(M):\n",
        "  xaa = X[i,:] - np.average(X[i,:])\n",
        "  AveAdjXs.append(xaa)\n",
        "AveAdjXs = np.array(AveAdjXs)\n",
        "\n",
        "# Step 3 and 4\n",
        "CovXYm = np.empty([M,M])\n",
        "r, c = AveAdjXs.shape\n",
        "for i in range(r):\n",
        "  for j in range(r):\n",
        "    AveAdjXSUM= 0\n",
        "    for k in range(c):\n",
        "      AveAdjXSUM = AveAdjXSUM + AveAdjXs[i,k]*AveAdjXs[j,k]\n",
        "    CovXYm[i,j]= AveAdjXSUM/(c-1)\n",
        "\n",
        "# And we get the same result if we use the built-in matrix function\n",
        "CovXY = np.cov(AveAdjXs)\n",
        "\n",
        "if np.isclose(CovXY, CovXYm, atol=1e-8).all():\n",
        "  print(\"We get the same answer either way we calculate it, specifically:\\n\\n\")\n",
        "  print(np.array_str(CovXY, precision=6, suppress_small=True))\n"
      ]
    },
    {
      "cell_type": "markdown",
      "metadata": {
        "id": "xVSuQS8XA8Er"
      },
      "source": [
        "How do we interpret the values in the covariance matrix?<br><br>\n",
        "\n",
        "Correlation is a statistical measure that indicates how strongly two variables are related. A positive covariance means that both variables tend to be high or low at the same time. A negative covariance means that when one variable is high, the other tends to be low.<br><br>\n",
        "\n",
        "Unlike other measures, like coherence, covariance is not bound between miniumum and maximum values like 0 and 1.<br><br>\n",
        "\n",
        "The matrix is symmetric, because the covariance between sensors x and y is the same as between sensors y and x. <br><br>\n",
        "\n",
        "The diagonal terms represent the covariance of a sensor with itself. This is just known as variance, and it is a measure of dispersion, or how far a set of measurements is spread out from their average value. It would then make sense that measurements with the highest amplitudes would have the greatest variance.<br><br>\n",
        "\n",
        "Let's take a look at this with Sensor 1 and Sensor 2, but only consider Source 1. Since they will have the same waveform but differ in their amplitudes, we expect that their covariance will be positive. We also expect the sensor will the highest amplitude to have the greatest variance."
      ]
    },
    {
      "cell_type": "code",
      "execution_count": null,
      "metadata": {
        "id": "TKxc-mqkI2tV"
      },
      "outputs": [],
      "source": [
        "AvgAdjFromSource1_XY = []\n",
        "for i in range(2):\n",
        "  xaa = FromSource1_XY[i,:] - np.average(FromSource1_XY[i,:])\n",
        "  AvgAdjFromSource1_XY.append(xaa)\n",
        "AvgAdjFromSource1_XY = np.array(AvgAdjFromSource1_XY)\n",
        "\n",
        "print(\"Average adjusted Sensor 1 now has a maximum value of \" + str.format('{0:.3f}', AvgAdjFromSource1_XY[0,:].max()) \\\n",
        "            + \" and a minimum value of \" + str.format('{0:.3f}', AvgAdjFromSource1_XY[0,:].min()) + \".\")\n",
        "print(\"Average adjusted Sensor 2 now has a maximum value of \" + str.format('{0:.3f}', AvgAdjFromSource1_XY[1,:].max()) \\\n",
        "            + \" and a minimum value of \" + str.format('{0:.3f}', AvgAdjFromSource1_XY[1,:].min()) + \".\\n\")\n",
        "print(\"Here is their graph:\\n\")\n",
        "\n",
        "# Plot 500 msec of sensor measurements, so we can see the details\n",
        "plt.clf()\n",
        "plt.title('Average Adjusted Sensor 1 and 2, using only Source 1')\n",
        "for i in range(2):\n",
        "  txt = \"Sensor \" + str(i+1)\n",
        "  plt.plot(samples, AvgAdjFromSource1_XY[i], label = txt)\n",
        "plt.legend()\n",
        "plt.xlim(left= 0, right=.5)\n",
        "plt.show()\n",
        "\n",
        "print(\"\\nAnd here is their covariance matrix:\\n\")\n",
        "CovXY1 = np.cov(AvgAdjFromSource1_XY)\n",
        "print(np.array_str(CovXY1, precision=6, suppress_small=True))"
      ]
    },
    {
      "cell_type": "markdown",
      "metadata": {
        "id": "oXkpNRNXIuHR"
      },
      "source": [
        "Of course the story gets a bit more complicated when we add multiple sensors. But it is still the case that a positive or negative value will tells us, on average, whether the values or any pair of values tend to be on the same side of their averages, and relatively by how much. <br><br>\n",
        "\n",
        "It is this matrix of pairwise statistical relationships known as covariances that we will now use to find our first rotation and scaling matrices. To do so, we will use another important relationship from linear algebra.\n"
      ]
    },
    {
      "cell_type": "markdown",
      "metadata": {
        "id": "kvN3Y5WTrNAq"
      },
      "source": [
        "# **5. Eigenvectors and Eigenvalues**"
      ]
    },
    {
      "cell_type": "markdown",
      "source": [
        "Just like **any** matrix can be decomposed by Singular Value Decomposition into three matrices (two rotations and a scaling), it is also true that **any symmetric** matrix - like the covariance matrix - can be rewritten as a matrix whose columns are its eigenvectors times another diagonal matrix containing its eigenvalues.<br><br>\n",
        "As with SVD, the decomposition is unique for a given matrix.\n",
        "<br><br>\n",
        "Eigencomposition is all about finding yet another linear transformation so that the symmetric matrix can be represented as another vector (or matrix) that has the property that it is equivalent to a constant value times that same vector. They use the suffix \"Eigen\", which means \"same\" in German so that you know this is the special vector (or matrix) that is the same on both sides of the equation, as well as the scaling factors that gives you back the original matrix. <br><br>\n",
        "\n",
        "<XX$^T$> * Eigenvector = Eigenvalue * Eigenvector\n",
        "<br><br>\n",
        "This has some useful properties, but I don't want to get too far away from the relevance to our initial times series data. For now, the importance to us is that it is a way of algebraically factoring our covariance matrix so that we can solve for U and $Σ$ above. In our continuation of the algebra, the Eigenvectors will be defined as E and the Eigenvalues as $Λ$.\n",
        "<br><br>\n",
        "<XX$^T$> = E $Λ$ E$^T$\n",
        "but because also, <br>\n",
        "<XX$^T$> = U $\\Sigma$$^2$ U$^T$\n",
        "<br><br>\n",
        "we see that the Eigenvectors, E, are really the U SVD matrix, and the Eigenvalues, $Λ$, are really the square roots of $\\Sigma$. \n",
        "<br><br>\n",
        "This also means that the Eigenvectors of the covariance matrix form our first rotation matrix and the Eigenvectors provide the scaling term.\n"
      ],
      "metadata": {
        "id": "WWh88WNVaLv4"
      }
    },
    {
      "cell_type": "code",
      "source": [
        "# First, check out work that we have correctly decomposed and reassembled.\n",
        "LXY1, UXY1 = np.linalg.eig(CovXY1)\n",
        "invUXY1 = np.linalg.inv(UXY1)\n",
        "vec1 = np.matmul(U, np.matmul(np.diag(LXY1), invUXY1))\n",
        "if np.isclose(CovXY1, vec1, atol=1e-8).all():\n",
        "  print(\"Decomposed terms can be reassembled into the covariance matrix.\")\n",
        "lhs = np.matmul(CovXY1, UXY1)\n",
        "rhs = np.matmul(U, np.diag(LXY1))\n",
        "if np.isclose(lhs, rhs, atol=1e-8).all():\n",
        "  print(\"LHS and RHS of the equation are equal.\")\n",
        "print(\"\\nHere are the Eigenvalues of the covarianace matrix with two sensors and one source.\")\n",
        "print(np.array_str(LXY1, precision=6, suppress_small=True))\n",
        "print(\"\\nHere are the Eigenvectors of the covarianace matrix with two sensors and one source.\")\n",
        "print(np.array_str(UXY1, precision=6, suppress_small=True))"
      ],
      "metadata": {
        "id": "tKkSAtLZSVmn"
      },
      "execution_count": null,
      "outputs": []
    },
    {
      "cell_type": "markdown",
      "source": [
        "These are also known as the Principal Components of the data. The new coordinate system associated with the Eigendecomposition defines lines through the axes of the covariance data with the greatest variation."
      ],
      "metadata": {
        "id": "IH8VH4KSOi-A"
      }
    },
    {
      "cell_type": "code",
      "source": [
        "# Demo one for two sensors and one source\n",
        "# Graph Original Data\n",
        "# Graph Rotated Data\n",
        "# Graph Rotated and Rescaled Data\n",
        "\n",
        "rotated21 = np.matmul(np.matrix.transpose(UXY1),FromSource1_XY)\n",
        "scalerotated21 = np.matmul(np.sqrt(np.linalg.pinv(np.diag(LXY1))), rotated21)\n",
        "\n",
        "plt.clf()\n",
        "fig, axs = plt.subplots(1, 3, sharex=True, sharey=True, figsize=(8,8))\n",
        "axs[0].set_title(\"Original Sensor Data\")\n",
        "axs[0].scatter(FromSource1_XY[0,:], FromSource1_XY[1,:], color='m')\n",
        "axs[1].set_title(\"Rotation 1 Applied\")\n",
        "axs[1].scatter(rotated21[0,:], rotated21[1,:], color='g')\n",
        "axs[2].set_title(\"Scaling and Rotation 1 Applied\")\n",
        "axs[2].scatter(scalerotated21[0,:], scalerotated21[1,:], color='black')\n",
        "fig.show()"
      ],
      "metadata": {
        "id": "3ZybyIwbMm-w"
      },
      "execution_count": null,
      "outputs": []
    },
    {
      "cell_type": "code",
      "source": [
        "# Demo two for full data\n",
        "# Graph Original Data\n",
        "# Graph Rotated Data\n",
        "# Graph Rotated and Rescaled Data\n",
        "L, U = np.linalg.eig(CovXY)\n",
        "firstrotationfull = np.matmul(np.matrix.transpose(U),X)\n",
        "scalerotationfull = np.matmul(np.sqrt(np.linalg.pinv(np.diag(L))), firstrotationfull)\n",
        "\n",
        "plt.clf()\n",
        "fig, axs = plt.subplots(3, 1, sharex=True, sharey=True, figsize=(8,8))\n",
        "axs[0].set_title(\"Sensor 1 and 2, All Sources\")\n",
        "axs[0].scatter(X[0,:], X[1,:], color='m')\n",
        "axs[1].set_title(\"Rotation 1 Applied\")\n",
        "axs[1].scatter(firstrotationfull[0,:], firstrotationfull[1,:], color='g')\n",
        "axs[2].set_title(\"Scaling and Rotation 1 Applied\")\n",
        "axs[2].scatter(scalerotationfull[0,:], scalerotationfull[1,:], color='black')\n",
        "fig.show()"
      ],
      "metadata": {
        "id": "465Gp0bbY1vm"
      },
      "execution_count": null,
      "outputs": []
    },
    {
      "cell_type": "markdown",
      "source": [],
      "metadata": {
        "id": "pnOz3odRZCr1"
      }
    },
    {
      "cell_type": "markdown",
      "source": [
        "# **6. The Concept of Whitening Data**"
      ],
      "metadata": {
        "id": "ciIHj_VSGIq-"
      }
    },
    {
      "cell_type": "code",
      "source": [
        "# X_white = maxsqrt(pinverse(Lamba)) * E^T * X"
      ],
      "metadata": {
        "id": "0ZBcjTlRe3oq"
      },
      "execution_count": null,
      "outputs": []
    },
    {
      "cell_type": "markdown",
      "source": [
        "We started off our analysis trying to decompose our mixing matrix, A. We now have know two of the three terms:\n",
        "<br><br>\n",
        "A = E $Λ$$^{1/2}$ V$^T$\n",
        "<br><br>\n",
        "And we are left trying to determine V (or V$^T$).\n",
        "<br><br>\n",
        "This final step requires understanding the statistics of independence and information theory."
      ],
      "metadata": {
        "id": "pTy56kSQVrSO"
      }
    },
    {
      "cell_type": "markdown",
      "source": [
        "# **7. The Requirement of Non-Gaussian Distributions**"
      ],
      "metadata": {
        "id": "XFwxxw01GLxr"
      }
    },
    {
      "cell_type": "markdown",
      "source": [
        "# **8. Information Theory**"
      ],
      "metadata": {
        "id": "ptUJg5J0GNtJ"
      }
    },
    {
      "cell_type": "markdown",
      "source": [
        "# **9. The Infomax ICA Algorithm**"
      ],
      "metadata": {
        "id": "ehuIe-FEGPZp"
      }
    },
    {
      "cell_type": "code",
      "source": [
        "# Find V"
      ],
      "metadata": {
        "id": "rcj5JufbfwZY"
      },
      "execution_count": null,
      "outputs": []
    },
    {
      "cell_type": "markdown",
      "source": [],
      "metadata": {
        "id": "SnhtH0i5f18V"
      }
    },
    {
      "cell_type": "code",
      "source": [
        "# Solve for W\n",
        "# W = V * matsqrt(pinv(D)) * E^T\n",
        "\n",
        "# Finally, solve for S\n",
        "# S = W * X\n",
        "\n",
        "# Graph and compare to originals"
      ],
      "metadata": {
        "id": "KAKt_XxQf2mo"
      },
      "execution_count": null,
      "outputs": []
    },
    {
      "cell_type": "markdown",
      "source": [
        "# **10. Subtracting a Source**"
      ],
      "metadata": {
        "id": "4G0e4YUbGQ66"
      }
    },
    {
      "cell_type": "markdown",
      "source": [
        "# **11. Coherences Before and After**"
      ],
      "metadata": {
        "id": "bdt2vqxZGSm9"
      }
    },
    {
      "cell_type": "markdown",
      "source": [
        "Assumptions:<br>\n",
        "1) The covariance matrix of the sources, S, is the identity matrix, because by definition the sources are independent."
      ],
      "metadata": {
        "id": "MMaSiidWbQdk"
      }
    },
    {
      "cell_type": "markdown",
      "metadata": {
        "id": "X-qkDqXcCSwC"
      },
      "source": [
        "# **12. Learning More About ICA**\n",
        "\n",
        "Shlens, J. (2014). [A tutorial on independent component analysis.](https://arxiv.org/pdf/1404.2986) arXiv preprint arXiv:1404.2986."
      ]
    }
  ],
  "metadata": {
    "colab": {
      "provenance": []
    },
    "kernelspec": {
      "display_name": "Python 3",
      "name": "python3"
    },
    "language_info": {
      "name": "python"
    }
  },
  "nbformat": 4,
  "nbformat_minor": 0
}